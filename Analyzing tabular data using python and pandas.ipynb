{
 "cells": [
  {
   "cell_type": "code",
   "execution_count": 10,
   "metadata": {},
   "outputs": [
    {
     "name": "stdout",
     "output_type": "stream",
     "text": [
      "Requirement already satisfied: pandas in c:\\users\\user\\anaconda3\\lib\\site-packages (1.2.0)\n",
      "Requirement already satisfied: python-dateutil>=2.7.3 in c:\\users\\user\\anaconda3\\lib\\site-packages (from pandas) (2.8.1)\n",
      "Requirement already satisfied: pytz>=2017.3 in c:\\users\\user\\anaconda3\\lib\\site-packages (from pandas) (2020.1)\n",
      "Requirement already satisfied: numpy>=1.16.5 in c:\\users\\user\\anaconda3\\lib\\site-packages (from pandas) (1.19.2)\n",
      "Requirement already satisfied: six>=1.5 in c:\\users\\user\\anaconda3\\lib\\site-packages (from python-dateutil>=2.7.3->pandas) (1.15.0)\n"
     ]
    }
   ],
   "source": [
    "!pip install pandas"
   ]
  },
  {
   "cell_type": "code",
   "execution_count": 8,
   "metadata": {},
   "outputs": [],
   "source": [
    "import pandas as pd"
   ]
  },
  {
   "cell_type": "code",
   "execution_count": 13,
   "metadata": {},
   "outputs": [],
   "source": [
    "covid_df = pd.read_csv('Data_Harian_Kasus_per_Provinsi_COVID-19_Indonesia.csv')"
   ]
  },
  {
   "cell_type": "code",
   "execution_count": 14,
   "metadata": {},
   "outputs": [
    {
     "data": {
      "text/plain": [
       "pandas.core.frame.DataFrame"
      ]
     },
     "execution_count": 14,
     "metadata": {},
     "output_type": "execute_result"
    }
   ],
   "source": [
    "type(covid_df)"
   ]
  },
  {
   "cell_type": "code",
   "execution_count": 17,
   "metadata": {},
   "outputs": [
    {
     "name": "stdout",
     "output_type": "stream",
     "text": [
      "             X         Y  FID  Kode_Provi                    Provinsi  \\\n",
      "0    96.909523  4.225082    1          11                        Aceh   \n",
      "1    99.057888  2.184779    2          12              Sumatera Utara   \n",
      "2   100.466805 -0.851914    3          13              Sumatera Barat   \n",
      "3   101.812892  0.510526    4          14                        Riau   \n",
      "4   103.599320 -1.617750    5          15                       Jambi   \n",
      "5   104.170419 -3.213347    6          16            Sumatera Selatan   \n",
      "6   102.263120 -3.791160    7          17                    Bengkulu   \n",
      "7   105.986948 -2.252956    8          19             Bangka Belitung   \n",
      "8   105.018313 -4.918073    9          18                     Lampung   \n",
      "9   108.202229  3.915947   10          21              Kepulauan Riau   \n",
      "10  106.826490 -6.171480   11          31                 DKI Jakarta   \n",
      "11  107.602808 -6.919980   12          32                  Jawa Barat   \n",
      "12  110.201113 -7.258970   13          33                 Jawa Tengah   \n",
      "13  110.445367 -7.895014   14          34  Daerah Istimewa Yogyakarta   \n",
      "14  112.733679 -7.720113   15          35                  Jawa Timur   \n",
      "15  106.109197 -6.456182   16          36                      Banten   \n",
      "16  115.131651 -8.369743   17          51                        Bali   \n",
      "17  117.506862 -8.606652   18          52         Nusa Tenggara Barat   \n",
      "18  121.141829 -8.604843   19          53         Nusa Tenggara Timur   \n",
      "19  111.120762 -0.085901   20          61            Kalimantan Barat   \n",
      "20  113.181048 -1.634340   21          62           Kalimantan Tengah   \n",
      "21  115.311308 -2.449779   22          63          Kalimantan Selatan   \n",
      "22  116.470858  0.461046   23          64            Kalimantan Timur   \n",
      "23  116.216718  2.888821   24          65            Kalimantan Utara   \n",
      "24  124.535379  1.286098   25          71              Sulawesi Utara   \n",
      "25  120.449593 -1.459215   26          72             Sulawesi Tengah   \n",
      "26  120.161158 -3.747116   27          73            Sulawesi Selatan   \n",
      "27  122.078678 -4.132804   28          74           Sulawesi Tenggara   \n",
      "28  123.061840  0.537070   29          75                   Gorontalo   \n",
      "29  119.343471 -2.461902   30          76              Sulawesi Barat   \n",
      "30  129.360425 -3.126119   31          81                      Maluku   \n",
      "31  128.015929  0.869337   32          82                Maluku Utara   \n",
      "32  140.000000 -5.000000   33          94                       Papua   \n",
      "33  132.968342 -2.041723   34          91                 Papua Barat   \n",
      "34  113.915865 -0.989818   35           0                   Indonesia   \n",
      "\n",
      "    Kasus_Posi  Kasus_Semb  Kasus_Meni  \n",
      "0         8746        7149         358  \n",
      "1        18149       15410         679  \n",
      "2        23464       20364         504  \n",
      "3        24966       23104         583  \n",
      "4         3227        2417          55  \n",
      "5        11826        9515         611  \n",
      "6         3603        2597         117  \n",
      "7         2337        1717          35  \n",
      "8         6276        4317         274  \n",
      "9         6995        6075         172  \n",
      "10      183735      164787        3270  \n",
      "11       83579       70788        1172  \n",
      "12       81716       54409        3562  \n",
      "13       12155        8175         260  \n",
      "14       84152       72135        5827  \n",
      "15       18170       10397         425  \n",
      "16       17593       16031         519  \n",
      "17        5664        4551         273  \n",
      "18        2167        1202          50  \n",
      "19        3118        2742          27  \n",
      "20        9740        7476         269  \n",
      "21       15303       13806         585  \n",
      "22       27076       22691         743  \n",
      "23        3794        2290          57  \n",
      "24        9671        7059         310  \n",
      "25        3552        1865         106  \n",
      "26       31047       26816         594  \n",
      "27        7907        6986         149  \n",
      "28        3841        3308         104  \n",
      "29        1941        1552          34  \n",
      "30        5722        4481          79  \n",
      "31        2771        2353          89  \n",
      "32       13216        7088         147  \n",
      "33        5979        5444          99  \n",
      "34           0           0           0  \n"
     ]
    }
   ],
   "source": [
    "print(covid_df)"
   ]
  },
  {
   "cell_type": "code",
   "execution_count": 18,
   "metadata": {},
   "outputs": [
    {
     "name": "stdout",
     "output_type": "stream",
     "text": [
      "<class 'pandas.core.frame.DataFrame'>\n",
      "RangeIndex: 35 entries, 0 to 34\n",
      "Data columns (total 8 columns):\n",
      " #   Column      Non-Null Count  Dtype  \n",
      "---  ------      --------------  -----  \n",
      " 0   X           35 non-null     float64\n",
      " 1   Y           35 non-null     float64\n",
      " 2   FID         35 non-null     int64  \n",
      " 3   Kode_Provi  35 non-null     int64  \n",
      " 4   Provinsi    35 non-null     object \n",
      " 5   Kasus_Posi  35 non-null     int64  \n",
      " 6   Kasus_Semb  35 non-null     int64  \n",
      " 7   Kasus_Meni  35 non-null     int64  \n",
      "dtypes: float64(2), int64(5), object(1)\n",
      "memory usage: 2.3+ KB\n"
     ]
    }
   ],
   "source": [
    "covid_df.info()"
   ]
  },
  {
   "cell_type": "code",
   "execution_count": 20,
   "metadata": {},
   "outputs": [
    {
     "data": {
      "text/plain": [
       "Index(['X', 'Y', 'FID', 'Kode_Provi', 'Provinsi', 'Kasus_Posi', 'Kasus_Semb',\n",
       "       'Kasus_Meni'],\n",
       "      dtype='object')"
      ]
     },
     "execution_count": 20,
     "metadata": {},
     "output_type": "execute_result"
    }
   ],
   "source": [
    "covid_df.columns"
   ]
  }
 ],
 "metadata": {
  "kernelspec": {
   "display_name": "Python 3",
   "language": "python",
   "name": "python3"
  },
  "language_info": {
   "codemirror_mode": {
    "name": "ipython",
    "version": 3
   },
   "file_extension": ".py",
   "mimetype": "text/x-python",
   "name": "python",
   "nbconvert_exporter": "python",
   "pygments_lexer": "ipython3",
   "version": "3.8.5"
  }
 },
 "nbformat": 4,
 "nbformat_minor": 4
}
